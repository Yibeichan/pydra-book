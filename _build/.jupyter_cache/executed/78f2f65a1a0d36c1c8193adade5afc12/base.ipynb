{
 "cells": [
  {
   "cell_type": "code",
   "execution_count": 1,
   "id": "4bd227a1",
   "metadata": {
    "jupyter": {
     "outputs_hidden": false
    },
    "pycharm": {
     "name": "#%%\n"
    }
   },
   "outputs": [],
   "source": [
    "import nest_asyncio\n",
    "nest_asyncio.apply()"
   ]
  },
  {
   "cell_type": "code",
   "execution_count": 2,
   "id": "862b047f",
   "metadata": {},
   "outputs": [],
   "source": [
    "import pydra\n",
    "\n",
    "# functions used later in the notebook:\n",
    "\n",
    "@pydra.mark.task\n",
    "def add_two(x):\n",
    "    return x + 2\n",
    "\n",
    "@pydra.mark.task\n",
    "def power(a, n=2):\n",
    "    return a**n\n",
    "\n",
    "@pydra.mark.task\n",
    "def mult_var(a, b):\n",
    "    return a * b"
   ]
  },
  {
   "cell_type": "code",
   "execution_count": 3,
   "id": "d37aeac7",
   "metadata": {},
   "outputs": [],
   "source": [
    "wf1 = pydra.Workflow(name=\"wf1\", input_spec=[\"x\"], x=3)"
   ]
  },
  {
   "cell_type": "code",
   "execution_count": 4,
   "id": "e1b63bab",
   "metadata": {},
   "outputs": [
    {
     "data": {
      "text/plain": [
       "<pydra.engine.core.Workflow at 0x7fa3584f4b10>"
      ]
     },
     "execution_count": 4,
     "metadata": {},
     "output_type": "execute_result"
    }
   ],
   "source": [
    "wf1.add(add_two(name=\"sum\", x=wf1.lzin.x))"
   ]
  },
  {
   "cell_type": "code",
   "execution_count": 5,
   "id": "081d6de8",
   "metadata": {},
   "outputs": [
    {
     "data": {
      "text/plain": [
       "<pydra.engine.task.FunctionTask at 0x7fa3384ef1d0>"
      ]
     },
     "execution_count": 5,
     "metadata": {},
     "output_type": "execute_result"
    }
   ],
   "source": [
    "wf1.sum"
   ]
  },
  {
   "cell_type": "code",
   "execution_count": 6,
   "id": "63bca197",
   "metadata": {},
   "outputs": [],
   "source": [
    "wf1.set_output([(\"out\", wf1.sum.lzout.out)])"
   ]
  },
  {
   "cell_type": "code",
   "execution_count": 7,
   "id": "aa87b3ef",
   "metadata": {},
   "outputs": [
    {
     "data": {
      "text/plain": [
       "Result(output=Output(out=5), runtime=None, errored=False)"
      ]
     },
     "execution_count": 7,
     "metadata": {},
     "output_type": "execute_result"
    }
   ],
   "source": [
    "with pydra.Submitter(plugin=\"cf\") as sub:\n",
    "    sub(wf1)\n",
    "\n",
    "wf1.result()"
   ]
  },
  {
   "cell_type": "code",
   "execution_count": 8,
   "id": "682dfb45",
   "metadata": {},
   "outputs": [
    {
     "data": {
      "text/plain": [
       "Result(output=Output(out_s=5, out_p=9), runtime=None, errored=False)"
      ]
     },
     "execution_count": 8,
     "metadata": {},
     "output_type": "execute_result"
    }
   ],
   "source": [
    "wf2 = pydra.Workflow(name=\"wf2\", input_spec=[\"x\"], x=3)\n",
    "wf2.add(add_two(name=\"add_two\", x=wf2.lzin.x))\n",
    "wf2.add(power(name=\"power\", a=wf2.lzin.x))\n",
    "\n",
    "# setting multiple workflow output\n",
    "wf2.set_output([(\"out_s\", wf2.add_two.lzout.out),\n",
    "                (\"out_p\", wf2.power.lzout.out)\n",
    "               ])\n",
    "\n",
    "with pydra.Submitter(plugin=\"cf\") as sub:\n",
    "    sub(wf2)\n",
    "\n",
    "wf2.result()"
   ]
  },
  {
   "cell_type": "code",
   "execution_count": 9,
   "id": "be7a5ef0",
   "metadata": {},
   "outputs": [
    {
     "data": {
      "text/plain": [
       "Result(output=Output(out_s=5, out_p=25), runtime=None, errored=False)"
      ]
     },
     "execution_count": 9,
     "metadata": {},
     "output_type": "execute_result"
    }
   ],
   "source": [
    "wf3 = pydra.Workflow(name=\"wf3\", input_spec=[\"x\"], x=3)\n",
    "wf3.add(add_two(name=\"sum\", x=wf3.lzin.x))\n",
    "# by setting a=wf3.sum.lzout.out we create a connection\n",
    "wf3.add(power(name=\"power\", a=wf3.sum.lzout.out))\n",
    "\n",
    "wf3.set_output([(\"out_s\", wf3.sum.lzout.out),\n",
    "                (\"out_p\", wf3.power.lzout.out)\n",
    "               ])\n",
    "\n",
    "with pydra.Submitter(plugin=\"cf\") as sub:\n",
    "    sub(wf3)\n",
    "\n",
    "wf3.result()"
   ]
  },
  {
   "cell_type": "code",
   "execution_count": 10,
   "id": "f747cd1c",
   "metadata": {},
   "outputs": [
    {
     "data": {
      "text/plain": [
       "LF('sum', 'out')"
      ]
     },
     "execution_count": 10,
     "metadata": {},
     "output_type": "execute_result"
    }
   ],
   "source": [
    "wf3.power.inputs.a"
   ]
  },
  {
   "cell_type": "code",
   "execution_count": 11,
   "id": "d50d14bf",
   "metadata": {},
   "outputs": [
    {
     "data": {
      "text/plain": [
       "Result(output=Output(out=45), runtime=None, errored=False)"
      ]
     },
     "execution_count": 11,
     "metadata": {},
     "output_type": "execute_result"
    }
   ],
   "source": [
    "wf4 = pydra.Workflow(name=\"wf4\", input_spec=[\"x\"], x=3)\n",
    "wf4.add(add_two(name=\"add_two\", x=wf4.lzin.x))\n",
    "wf4.add(power(name=\"power\", a=wf4.lzin.x))\n",
    "wf4.add(mult_var(name=\"mult\", a=wf4.add_two.lzout.out, b=wf4.power.lzout.out))\n",
    "\n",
    "wf4.set_output([(\"out\", wf4.mult.lzout.out)])\n",
    "\n",
    "with pydra.Submitter(plugin=\"cf\") as sub:\n",
    "    sub(wf4)\n",
    "\n",
    "wf4.result()"
   ]
  },
  {
   "cell_type": "code",
   "execution_count": 12,
   "id": "4b82c72f",
   "metadata": {},
   "outputs": [
    {
     "data": {
      "text/plain": [
       "Result(output=Output(out=45), runtime=None, errored=False)"
      ]
     },
     "execution_count": 12,
     "metadata": {},
     "output_type": "execute_result"
    }
   ],
   "source": [
    "wf2a = pydra.Workflow(name=\"wf2a\", input_spec=[\"x\"])\n",
    "wf2a.add(add_two(name=\"add_two\", x=wf2a.lzin.x))\n",
    "wf2a.add(power(name=\"power\", a=wf2a.lzin.x))\n",
    "\n",
    "wf2a.set_output([(\"out_s\", wf2a.add_two.lzout.out),\n",
    "                (\"out_p\", wf2a.power.lzout.out)\n",
    "               ])\n",
    "\n",
    "\n",
    "wf5 = pydra.Workflow(name=\"wf5\", input_spec=[\"x\"], x=3)\n",
    "wf5.add(wf2a)\n",
    "# connecting wfa to the input from the main workflow\n",
    "wf2a.inputs.x = wf5.lzin.x\n",
    "wf5.add(mult_var(name=\"mult\", a=wf5.wf2a.lzout.out_s, b=wf5.wf2a.lzout.out_p))\n",
    "\n",
    "wf5.set_output([(\"out\", wf5.mult.lzout.out)])\n",
    "\n",
    "with pydra.Submitter(plugin=\"cf\") as sub:\n",
    "    sub(wf5)\n",
    "\n",
    "wf5.result()"
   ]
  },
  {
   "cell_type": "code",
   "execution_count": 13,
   "id": "1d157599",
   "metadata": {},
   "outputs": [
    {
     "data": {
      "text/plain": [
       "[Result(output=Output(wf_out=45), runtime=None, errored=False),\n",
       " Result(output=Output(wf_out=175), runtime=None, errored=False)]"
      ]
     },
     "execution_count": 13,
     "metadata": {},
     "output_type": "execute_result"
    }
   ],
   "source": [
    "wf6 = pydra.Workflow(name=\"wf6\", input_spec=[\"x\"])\n",
    "# setting a plitter for the entire workflow\n",
    "wf6.split(\"x\", x=[3, 5])\n",
    "wf6.add(add_two(name=\"add_two\", x=wf6.lzin.x))\n",
    "wf6.add(power(name=\"power\", a=wf6.lzin.x))\n",
    "wf6.add(mult_var(name=\"mult\", a=wf6.add_two.lzout.out, b=wf6.power.lzout.out))\n",
    "\n",
    "wf6.set_output([(\"wf_out\", wf6.mult.lzout.out)])\n",
    "\n",
    "with pydra.Submitter(plugin=\"cf\") as sub:\n",
    "    sub(wf6)\n",
    "\n",
    "wf6.result()"
   ]
  },
  {
   "cell_type": "code",
   "execution_count": 14,
   "id": "7a7eccad",
   "metadata": {},
   "outputs": [
    {
     "data": {
      "text/plain": [
       "[Result(output=Output(out=20), runtime=None, errored=False),\n",
       " Result(output=Output(out=45), runtime=None, errored=False),\n",
       " Result(output=Output(out=28), runtime=None, errored=False),\n",
       " Result(output=Output(out=63), runtime=None, errored=False)]"
      ]
     },
     "execution_count": 14,
     "metadata": {},
     "output_type": "execute_result"
    }
   ],
   "source": [
    "wf7 = pydra.Workflow(name=\"wf7\", input_spec=[\"x\", \"y\"])\n",
    "wf7.split([\"x\", \"y\"], x=[3, 5], y=[2, 3])\n",
    "wf7.add(add_two(name=\"sum\", x=wf7.lzin.x))\n",
    "wf7.add(power(name=\"power\", a=wf7.lzin.y))\n",
    "wf7.add(mult_var(name=\"mult\", a=wf7.sum.lzout.out, b=wf7.power.lzout.out))\n",
    "\n",
    "wf7.set_output([(\"out\", wf7.mult.lzout.out)])\n",
    "\n",
    "with pydra.Submitter(plugin=\"cf\") as sub:\n",
    "    sub(wf7)\n",
    "\n",
    "wf7.result()"
   ]
  },
  {
   "cell_type": "code",
   "execution_count": 15,
   "id": "5c27d038",
   "metadata": {},
   "outputs": [
    {
     "data": {
      "text/plain": [
       "[[Result(output=Output(out=20), runtime=None, errored=False),\n",
       "  Result(output=Output(out=28), runtime=None, errored=False)],\n",
       " [Result(output=Output(out=45), runtime=None, errored=False),\n",
       "  Result(output=Output(out=63), runtime=None, errored=False)]]"
      ]
     },
     "execution_count": 15,
     "metadata": {},
     "output_type": "execute_result"
    }
   ],
   "source": [
    "wf7.combine(\"x\")\n",
    "\n",
    "with pydra.Submitter(plugin=\"cf\") as sub:\n",
    "    sub(wf7)\n",
    "\n",
    "wf7.result()"
   ]
  },
  {
   "cell_type": "code",
   "execution_count": 16,
   "id": "9c720156",
   "metadata": {},
   "outputs": [
    {
     "data": {
      "text/plain": [
       "Result(output=Output(out_m=5.0, out_p=[9, 25, 49]), runtime=None, errored=False)"
      ]
     },
     "execution_count": 16,
     "metadata": {},
     "output_type": "execute_result"
    }
   ],
   "source": [
    "@pydra.mark.task\n",
    "def mean(x_list):\n",
    "    return sum(x_list)/len(x_list)\n",
    "\n",
    "wf8 = pydra.Workflow(name=\"wf8\", input_spec=[\"x\"], x=[3, 5, 7])\n",
    "wf8.add(mean(name=\"mean\", x_list=wf8.lzin.x))\n",
    "# adding a task that has its own splitter\n",
    "wf8.add(power(name=\"power\", a=wf8.lzin.x).split(\"a\"))\n",
    "\n",
    "wf8.set_output([(\"out_m\", wf8.mean.lzout.out),\n",
    "                (\"out_p\", wf8.power.lzout.out)])\n",
    "\n",
    "with pydra.Submitter(plugin=\"cf\") as sub:\n",
    "    sub(wf8)\n",
    "\n",
    "wf8.result()"
   ]
  }
 ],
 "metadata": {
  "jupytext": {
   "text_representation": {
    "extension": ".md",
    "format_name": "myst",
    "format_version": 0.13,
    "jupytext_version": "1.10.3"
   }
  },
  "kernelspec": {
   "display_name": "Python 3",
   "language": "python",
   "name": "python3"
  },
  "language_info": {
   "codemirror_mode": {
    "name": "ipython",
    "version": 3
   },
   "file_extension": ".py",
   "mimetype": "text/x-python",
   "name": "python",
   "nbconvert_exporter": "python",
   "pygments_lexer": "ipython3",
   "version": "3.7.13"
  },
  "source_map": [
   12,
   16,
   29,
   45,
   51,
   53,
   57,
   59,
   63,
   65,
   69,
   71,
   75,
   79,
   84,
   90,
   94,
   98,
   112,
   116,
   120,
   128,
   142,
   146,
   148,
   152,
   156,
   160,
   172,
   176,
   180,
   188,
   210,
   214,
   218,
   224,
   238,
   244,
   248,
   252,
   265,
   269,
   273,
   279,
   286,
   290,
   294,
   302,
   319,
   323
  ]
 },
 "nbformat": 4,
 "nbformat_minor": 5
}