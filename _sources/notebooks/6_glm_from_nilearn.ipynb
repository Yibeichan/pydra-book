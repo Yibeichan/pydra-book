{
 "cells": [
  {
   "cell_type": "markdown",
   "id": "caf10139",
   "metadata": {
    "tags": []
   },
   "source": [
    "# 6. First level GLM"
   ]
  },
  {
   "cell_type": "markdown",
   "id": "04666a9a",
   "metadata": {},
   "source": [
    "In this chapter, we will go through a simple workflow of the first level general linear modeling with a BIDS dataset from openneuro. This analysis is only performed on **one** subject.\n",
    "\n",
    "This tutorial is based on the [Nilearn GLM tutorial](https://nilearn.github.io/stable/auto_examples/04_glm_first_level/plot_bids_features.html#sphx-glr-auto-examples-04-glm-first-level-plot-bids-features-py)."
   ]
  },
  {
   "cell_type": "code",
   "execution_count": 1,
   "id": "3d8621ba",
   "metadata": {},
   "outputs": [],
   "source": [
    "import nest_asyncio\n",
    "nest_asyncio.apply()"
   ]
  },
  {
   "cell_type": "markdown",
   "id": "296280c2",
   "metadata": {
    "tags": []
   },
   "source": [
    "## Preparation\n",
    "\n",
    "Import packages that will be used globally and set up output directory"
   ]
  },
  {
   "cell_type": "code",
   "execution_count": 2,
   "id": "d99b79e2",
   "metadata": {},
   "outputs": [],
   "source": [
    "import os\n",
    "import pydra\n",
    "from pydra import Workflow\n",
    "from pydra.engine.specs import File\n",
    "import typing as ty\n",
    "from pathlib import Path\n",
    "\n",
    "# get current directory\n",
    "pydra_tutorial_dir = os.path.dirname(os.getcwd())\n",
    "\n",
    "# set up output directory\n",
    "workflow_dir = Path(pydra_tutorial_dir) / \"outputs\" \n",
    "workflow_out_dir = workflow_dir / \"6_glm\"\n",
    "\n",
    "# create the output directory if not exit\n",
    "os.makedirs(workflow_out_dir, exist_ok = True) "
   ]
  },
  {
   "cell_type": "markdown",
   "id": "0d7e3988",
   "metadata": {
    "tags": []
   },
   "source": [
    "## Create tasks\n",
    "\n",
    "In this section, we converte major steps into tasks.\n",
    "Each pydra task can have multiple python functions. We recommand to put those logically more related functions into the same task.\n",
    "\n",
    "It is very **important** to keep in mind what adjacent tasks of your current task will be.\n",
    "1. Your previous task will decide your arguments in the current task\n",
    "2. Your next task will be impacted by the returns in the current task"
   ]
  },
  {
   "cell_type": "markdown",
   "id": "1a27c9a3",
   "metadata": {},
   "source": [
    "### fetch openneuro BIDS dataset\n",
    "\n",
    "In this task, we do the following:\n",
    "1. get openneuro dataset index\n",
    "2. specify exclusion patterns and number of subjects\n",
    "3. download the data we need\n",
    "\n",
    "\n",
    "**Notes:** Here we still use `n_subjects` as an argument. Given that we will only analyze one subject, you can also remove this argument and specify `n_subjects =1` in `select_from_index`. If you do, do not forget to modify the argument in the workflow later."
   ]
  },
  {
   "cell_type": "code",
   "execution_count": 3,
   "id": "a58a815d",
   "metadata": {},
   "outputs": [],
   "source": [
    "@pydra.mark.task\n",
    "@pydra.mark.annotate({\"exclusion_patterns\": list, \"n_subjects\":int, \"return\": {\"data_dir\":str}})\n",
    "def get_openneuro_dataset(exclusion_patterns, n_subjects):\n",
    "    \n",
    "    from nilearn.datasets import (fetch_openneuro_dataset_index,\n",
    "                              fetch_openneuro_dataset, select_from_index)\n",
    "    _, urls = fetch_openneuro_dataset_index()\n",
    "    urls = select_from_index(\n",
    "        urls, exclusion_filters=exclusion_patterns, n_subjects = n_subjects)\n",
    "    data_dir, _ = fetch_openneuro_dataset(urls=urls)\n",
    "    return data_dir"
   ]
  },
  {
   "cell_type": "markdown",
   "id": "7cda28e8",
   "metadata": {},
   "source": [
    "### obtain FirstLevelModel objects automatically and fit arguments\n",
    "\n",
    "To get the first level model(s) we have to specify \n",
    "1. the dataset directory\n",
    "2. the task_label\n",
    "3. the space_label \n",
    "4. the folder with the desired derivatives (fMRIPrep)\n",
    "\n",
    "In our case, we only have one subject so we will only have one first level model.\n",
    "Then, for this model, we will obtain \n",
    "1. the list of run images \n",
    "2. events\n",
    "3. confound regressors \n",
    "\n",
    "Those are inferred from the confounds.tsv files available in the BIDS dataset."
   ]
  },
  {
   "cell_type": "code",
   "execution_count": 4,
   "id": "e0f0e284",
   "metadata": {},
   "outputs": [],
   "source": [
    "@pydra.mark.task\n",
    "@pydra.mark.annotate({\"data_dir\": str, \"task_label\": str, \"space_label\": str,\"derivatives_folder\": str, \"smoothing_fwhm\": float, \n",
    "                      \"return\": {\"model\": ty.Any, \"imgs\": list, \"subject\": str}})\n",
    "def get_info_from_bids(\n",
    "    data_dir,\n",
    "    task_label,\n",
    "    space_label,\n",
    "    smoothing_fwhm,\n",
    "    derivatives_folder\n",
    "):\n",
    "    from nilearn.glm.first_level import first_level_from_bids\n",
    "    models, models_run_imgs, models_events, models_confounds = \\\n",
    "    first_level_from_bids(dataset_path = data_dir, task_label = task_label, space_label = space_label,\n",
    "                          smoothing_fwhm = smoothing_fwhm, derivatives_folder = derivatives_folder)\n",
    "    model, imgs, events, confounds = (\n",
    "        models[0], models_run_imgs[0], models_events[0], models_confounds[0])\n",
    "    subject = \"sub-\" + model.subject_label\n",
    "    return model, imgs, subject"
   ]
  },
  {
   "cell_type": "markdown",
   "id": "96704c2f",
   "metadata": {},
   "source": [
    "### Get design matrix\n",
    "\n",
    "This task does the following:\n",
    "1. read the design matrix in `.mat`\n",
    "2. rename the column\n",
    "3. save the new design matrix as `.csv`\n",
    "\n",
    "**Think:** What if we don't save the new design matrix, but `return` it directly? In other words, we `return` a `pandas.DataFrame` instead of a `path`. What will happen? Worth a try :)"
   ]
  },
  {
   "cell_type": "code",
   "execution_count": 5,
   "id": "90f30069",
   "metadata": {},
   "outputs": [],
   "source": [
    "@pydra.mark.task\n",
    "@pydra.mark.annotate({\"data_dir\":str, \"subject\":str, \"return\": {\"dm_path\": str}})\n",
    "def get_designmatrix(data_dir, subject):\n",
    "    \n",
    "    from nilearn.interfaces.fsl import get_design_from_fslmat\n",
    "    fsl_design_matrix_path = os.path.join(\n",
    "        data_dir, 'derivatives', 'task', subject, 'stopsignal.feat', 'design.mat')\n",
    "    design_matrix = get_design_from_fslmat(fsl_design_matrix_path, column_names=None)\n",
    "    \n",
    "    design_columns = ['cond_%02d' % i for i in range(len(design_matrix.columns))]\n",
    "    design_columns[0] = 'Go'\n",
    "    design_columns[4] = 'StopSuccess'\n",
    "    design_matrix.columns = design_columns\n",
    "    dm_path = os.path.join(workflow_out_dir, \"designmatrix.csv\")\n",
    "    design_matrix.to_csv(dm_path,index=None)\n",
    "    return dm_path                      "
   ]
  },
  {
   "cell_type": "markdown",
   "id": "e5c58cec",
   "metadata": {},
   "source": [
    "### Fit 1st level model\n",
    "\n",
    "What we are doing here is:\n",
    "1. use the design matrix to fit the first level model\n",
    "2. compute the contrast\n",
    "3. save the z_map and masker for futher use"
   ]
  },
  {
   "cell_type": "code",
   "execution_count": 6,
   "id": "28befb7e",
   "metadata": {},
   "outputs": [],
   "source": [
    "@pydra.mark.task\n",
    "@pydra.mark.annotate({\"model\": ty.Any,\"imgs\": ty.Any,\n",
    "                      \"dm_path\": ty.Any,\"contrast\": str,\n",
    "                      \"return\": {\"model\": ty.Any, \"z_map_path\":str, \"masker\":ty.Any}})\n",
    "def model_fit(\n",
    "    model, \n",
    "    imgs,\n",
    "    dm_path,\n",
    "    contrast\n",
    "):\n",
    "    import pandas as pd\n",
    "    design_matrix = pd.read_csv(dm_path)\n",
    "    model.fit(imgs, design_matrices = [design_matrix])\n",
    "    z_map = model.compute_contrast(contrast)\n",
    "    z_map_path = os.path.join(workflow_out_dir, \"firstlevel_z_map.nii.gz\")\n",
    "    z_map.to_filename(z_map_path)\n",
    "    masker_path = os.path.join(workflow_out_dir, \"firstlevel_masker.nii.gz\")\n",
    "    masker = model.masker_\n",
    "    return model, z_map_path, masker"
   ]
  },
  {
   "cell_type": "markdown",
   "id": "d663ff8e",
   "metadata": {},
   "source": [
    "### Get cluster table and glm report\n",
    "\n",
    "For publication purposes, we obtain a cluster table and a summary report."
   ]
  },
  {
   "cell_type": "code",
   "execution_count": 7,
   "id": "b75a4305",
   "metadata": {},
   "outputs": [],
   "source": [
    "@pydra.mark.task\n",
    "@pydra.mark.annotate({\"z_map_path\":str,\n",
    "                    \"return\":{\"output_file\":str}})\n",
    "def cluster_table(z_map_path):\n",
    "    import nibabel as nib\n",
    "    from nilearn.reporting import get_clusters_table\n",
    "    from scipy.stats import norm\n",
    "    \n",
    "    stat_img = nib.load(z_map_path)\n",
    "    output_file = os.path.join(workflow_out_dir, \"cluster_table.csv\")\n",
    "    df = get_clusters_table(stat_img,\n",
    "                            stat_threshold = norm.isf(0.001), \n",
    "                            cluster_threshold=10)\n",
    "    df.to_csv(output_file, index=None)\n",
    "    return output_file\n",
    "\n",
    "# get glm report\n",
    "@pydra.mark.task\n",
    "@pydra.mark.annotate({\"model\":ty.Any, \"contrasts\":str,\n",
    "                    \"return\":{\"output_file\":str}})\n",
    "def glm_report(\n",
    "    model,\n",
    "    contrasts\n",
    "):\n",
    "    from nilearn.reporting import make_glm_report\n",
    "    output_file = os.path.join(workflow_out_dir, \"glm_report.html\")\n",
    "    report = make_glm_report(model, contrasts)\n",
    "    report.save_as_html(output_file)\n",
    "    return output_file"
   ]
  },
  {
   "cell_type": "markdown",
   "id": "acec1b68",
   "metadata": {},
   "source": [
    "### Make plots \n",
    "\n",
    "Here we want to make some plots to display our results and compare the result from FSL.\n",
    "1. plot nilearn z-map\n",
    "2. plot fsl z-map\n",
    "3. plot nilearn and fsl comparison\n",
    "4. plot design matrix contrast\n",
    "\n",
    "You can also seperate this task into multiple sub-tasks. But it makes more sense to put them into one task as they use the same files and function `nilearn.plotting` repeatedly."
   ]
  },
  {
   "cell_type": "code",
   "execution_count": 8,
   "id": "da1e2d90",
   "metadata": {},
   "outputs": [],
   "source": [
    "@pydra.mark.task\n",
    "@pydra.mark.annotate({\"data_dir\":str, \"dm_path\":str, \"z_map_path\":str, \n",
    "                      \"contrast\":str,\"subject\":str, \"masker\":ty.Any, \n",
    "                      \"return\":{\"output_file1\":str, \"output_file2\":str,\n",
    "                                \"output_file3\":str, \"output_file4\":str}})\n",
    "def plots(\n",
    "    data_dir,\n",
    "    dm_path,\n",
    "    z_map_path,\n",
    "    contrast,\n",
    "    subject,\n",
    "    masker,\n",
    "):\n",
    "    import pandas as pd\n",
    "    import nibabel as nib\n",
    "    from nilearn.plotting import plot_glass_brain, plot_img_comparison, plot_contrast_matrix\n",
    "    import matplotlib.pyplot as plt\n",
    "    from scipy.stats import norm\n",
    "    \n",
    "    # plot and save nilearn z-map\n",
    "    z_map = nib.load(z_map_path)\n",
    "    output_file1 = os.path.join(workflow_out_dir, \"nilearn_z_map.png\")\n",
    "    plot_glass_brain(z_map, output_file = output_file1, colorbar = True,\n",
    "                     threshold = norm.isf(0.001), title = 'Nilearn Z map of \"StopSuccess - Go\" (unc p<0.001)',\n",
    "                     plot_abs = False, display_mode = 'ortho')\n",
    "    \n",
    "    # plot and save fsl z-map\n",
    "    fsl_z_map = nib.load(\n",
    "    os.path.join(data_dir, 'derivatives', 'task', subject, 'stopsignal.feat',\n",
    "                 'stats', 'zstat12.nii.gz'))\n",
    "    output_file2 = os.path.join(workflow_out_dir, \"fsl_z_map.png\")\n",
    "    plot_glass_brain(fsl_z_map, output_file = output_file2, colorbar = True, \n",
    "                     threshold = norm.isf(0.001), title = 'FSL Z map of \"StopSuccess - Go\" (unc p<0.001)',\n",
    "                     plot_abs = False, display_mode = 'ortho')\n",
    "    \n",
    "    # plot and save nilearn and fsl comparison\n",
    "    plot_img_comparison([z_map], [fsl_z_map], masker, output_dir = workflow_out_dir, \n",
    "                        ref_label = 'Nilearn', src_label = 'FSL')\n",
    "    old = os.path.join(workflow_out_dir, \"0000.png\")\n",
    "    new = os.path.join(workflow_out_dir, \"nilearn_fsl_comp.png\")\n",
    "    output_file3 = os.rename(old,new)\n",
    "    \n",
    "    # plot and save design matrix contrast\n",
    "    design_matrix = pd.read_csv(dm_path)\n",
    "    output_file4 = os.path.join(workflow_out_dir, \"firstlevel_contrast.png\")\n",
    "    plot_contrast_matrix(contrast, design_matrix, output_file = output_file4)\n",
    "    return output_file1, output_file2, output_file3, output_file4"
   ]
  },
  {
   "cell_type": "markdown",
   "id": "2f4d7135",
   "metadata": {
    "tags": []
   },
   "source": [
    "## Make a workflow from tasks\n",
    "\n",
    "Now we have created all tasks we need for this first level analysis, and there are two choices for our next step.\n",
    "1. create one workflow to connect all tasks together\n",
    "2. create sub-workflows with some closely related tasks, and connect these workflows along with other tasks into a larger workflow.\n",
    "\n",
    "We recommand the second approach as it is alway a good practice to group tasks, especially when there are a large number of tasks in the analysis.\n",
    "\n",
    "Our analysis can be divided into three parts: (1) get/read the data, (2) analyze the data, and (3) plot the result, where (1) and (3) only have one task each. So we can put all tasks in (2) into one workflow and name it as `firstlevel` or whatever you prefer."
   ]
  },
  {
   "cell_type": "code",
   "execution_count": 9,
   "id": "95e6ed80",
   "metadata": {},
   "outputs": [],
   "source": [
    "# initiate a workflow\n",
    "wf_firstlevel = Workflow(name=\"wf_firstlevel\", input_spec=[\"data_dir\",\n",
    "                                     \"task_label\",\n",
    "                                     \"space_label\",\n",
    "                                     \"derivatives_folder\",\n",
    "                                     \"smoothing_fwhm\",\n",
    "                                     \"contrast\",\n",
    "                                     \"output_dir\"]\n",
    "                     )\n",
    "\n",
    "# specify input\n",
    "wf_firstlevel.inputs.task_label = 'stopsignal'\n",
    "wf_firstlevel.inputs.space_label = 'MNI152NLin2009cAsym'\n",
    "wf_firstlevel.inputs.derivatives_folder = 'derivatives/fmriprep'\n",
    "wf_firstlevel.inputs.smoothing_fwhm = 5.0\n",
    "\n",
    "# add task - get_info_from_bids\n",
    "wf_firstlevel.add(get_info_from_bids(name=\"get_info_from_bids\",\n",
    "                          data_dir = wf_firstlevel.lzin.data_dir,\n",
    "                          task_label = wf_firstlevel.lzin.task_label,\n",
    "                          space_label = wf_firstlevel.lzin.space_label,\n",
    "                          derivatives_folder = wf_firstlevel.lzin.derivatives_folder,\n",
    "                          smoothing_fwhm = wf_firstlevel.lzin.smoothing_fwhm\n",
    "                         )\n",
    "      )\n",
    "# add task - get_designmatrix\n",
    "wf_firstlevel.add(get_designmatrix(name = \"get_designmatrix\",\n",
    "                        data_dir = wf_firstlevel.lzin.data_dir,\n",
    "                        subject = wf_firstlevel.get_info_from_bids.lzout.subject,\n",
    "                       )\n",
    "      )\n",
    "wf_firstlevel.add(model_fit(name = \"l1estimation\",\n",
    "                   model = wf_firstlevel.get_info_from_bids.lzout.model, \n",
    "                   imgs = wf_firstlevel.get_info_from_bids.lzout.imgs, \n",
    "                   dm_path = wf_firstlevel.get_designmatrix.lzout.dm_path,\n",
    "                   contrast = wf_firstlevel.lzin.contrast\n",
    "                )\n",
    "      )\n",
    "# add task - cluster_table\n",
    "wf_firstlevel.add(cluster_table(name = \"cluster_table\", \n",
    "                     z_map_path = wf_firstlevel.l1estimation.lzout.z_map_path))\n",
    "# add task - glm_report\n",
    "wf_firstlevel.add(glm_report(name = \"glm_report\",\n",
    "                  model = wf_firstlevel.l1estimation.lzout.model,\n",
    "                  contrasts = wf_firstlevel.lzin.contrast\n",
    "                 )\n",
    "      )\n",
    "# specify output\n",
    "wf_firstlevel.set_output([\n",
    "    (\"z_map\", wf_firstlevel.l1estimation.lzout.z_map_path),\n",
    "    (\"masker\", wf_firstlevel.l1estimation.lzout.masker),\n",
    "    (\"subject\", wf_firstlevel.get_info_from_bids.lzout.subject),\n",
    "    (\"dm_path\", wf_firstlevel.get_designmatrix.lzout.dm_path),\n",
    "    (\"cluster_table\", wf_firstlevel.cluster_table.lzout.output_file),\n",
    "    (\"glm_report\", wf_firstlevel.glm_report.lzout.output_file)\n",
    "])"
   ]
  },
  {
   "cell_type": "markdown",
   "id": "176ecaa9",
   "metadata": {
    "tags": []
   },
   "source": [
    "## The overaching workflow\n",
    "\n",
    "Connect other tasks and the above workflow into one\n",
    "\n",
    "Now we need to create the overaching glm workflow that connects the above workflow and other tasks (e.g., `get/read the data` and `plot the result`)"
   ]
  },
  {
   "cell_type": "code",
   "execution_count": 10,
   "id": "436f24d7",
   "metadata": {},
   "outputs": [],
   "source": [
    "wf = Workflow(name = \"firstlevel_glm\",\n",
    "              input_spec = [\"exclusion_patterns\",\"n_subjects\",\"contrast\",\"output_dir\"],\n",
    "             )\n",
    "\n",
    "wf.inputs.exclusion_patterns = ['*group*', '*phenotype*', '*mriqc*',\n",
    "                                '*parameter_plots*', '*physio_plots*',\n",
    "                                '*space-fsaverage*', '*space-T1w*',\n",
    "                                '*dwi*', '*beh*', '*task-bart*',\n",
    "                                '*task-rest*', '*task-scap*', '*task-task*']\n",
    "wf.inputs.n_subjects = 1\n",
    "wf.inputs.output_dir = workflow_out_dir\n",
    "wf.inputs.contrast = 'StopSuccess - Go'\n",
    "\n",
    "wf.add(get_openneuro_dataset(name = \"get_openneuro_dataset\", \n",
    "                             exclusion_patterns = wf.lzin.exclusion_patterns,\n",
    "                             n_subjects = wf.lzin.n_subjects\n",
    "                            )\n",
    "      )\n",
    "\n",
    "wf_firstlevel.inputs.data_dir = wf.get_openneuro_dataset.lzout.data_dir\n",
    "wf_firstlevel.inputs.contrast = wf.inputs.contrast\n",
    "wf_firstlevel.inputs.output_dir = wf.inputs.output_dir\n",
    "wf.add(wf_firstlevel)\n",
    "\n",
    "wf.add(plots(name = \"plots\",\n",
    "             data_dir = wf.get_openneuro_dataset.lzout.data_dir,\n",
    "             dm_path = wf_firstlevel.lzout.dm_path,\n",
    "             z_map_path = wf_firstlevel.lzout.z_map,\n",
    "             contrast = wf.lzin.contrast,\n",
    "             subject =  wf_firstlevel.lzout.subject,\n",
    "             masker = wf_firstlevel.lzout.masker\n",
    "            )\n",
    "      )\n",
    "\n",
    "wf.set_output([\n",
    "    (\"output1\", wf.plots.lzout.output_file1),\n",
    "    (\"output2\", wf.plots.lzout.output_file2),\n",
    "    (\"output3\", wf.plots.lzout.output_file3),\n",
    "    (\"output4\", wf.plots.lzout.output_file4)\n",
    "])"
   ]
  },
  {
   "cell_type": "markdown",
   "id": "ab892969",
   "metadata": {},
   "source": [
    "## Run Workflow Run"
   ]
  },
  {
   "cell_type": "code",
   "execution_count": 11,
   "id": "9fbd4609",
   "metadata": {
    "tags": []
   },
   "outputs": [
    {
     "name": "stderr",
     "output_type": "stream",
     "text": [
      "/Users/yibeichen/miniconda3/envs/pydra/lib/python3.7/site-packages/nilearn/glm/__init__.py:56: FutureWarning: The nilearn.glm module is experimental. It may change in any future release of Nilearn.\n",
      "  'It may change in any future release of Nilearn.', FutureWarning)\n"
     ]
    },
    {
     "name": "stderr",
     "output_type": "stream",
     "text": [
      "/Users/yibeichen/miniconda3/envs/pydra/lib/python3.7/site-packages/nilearn/glm/first_level/first_level.py:905: UserWarning: SliceTimingRef not found in file /Users/yibeichen/nilearn_data/ds000030/ds000030_R1.0.4/uncompressed/sub-10159/func/sub-10159_task-stopsignal_bold.json. It will be assumed that the slice timing reference is 0.0 percent of the repetition time. If it is not the case it will need to be set manually in the generated list of models\n",
      "  img_specs[0])\n"
     ]
    },
    {
     "name": "stderr",
     "output_type": "stream",
     "text": [
      "/Users/yibeichen/miniconda3/envs/pydra/lib/python3.7/site-packages/nilearn/glm/__init__.py:56: FutureWarning: The nilearn.glm module is experimental. It may change in any future release of Nilearn.\n",
      "  'It may change in any future release of Nilearn.', FutureWarning)\n"
     ]
    },
    {
     "name": "stderr",
     "output_type": "stream",
     "text": [
      "/Users/yibeichen/miniconda3/envs/pydra/lib/python3.7/site-packages/nilearn/glm/__init__.py:56: FutureWarning: The nilearn.glm module is experimental. It may change in any future release of Nilearn.\n",
      "  'It may change in any future release of Nilearn.', FutureWarning)\n"
     ]
    },
    {
     "name": "stderr",
     "output_type": "stream",
     "text": [
      "Process ForkProcess-2:\n"
     ]
    },
    {
     "name": "stderr",
     "output_type": "stream",
     "text": [
      "Process ForkProcess-1:\n"
     ]
    },
    {
     "name": "stderr",
     "output_type": "stream",
     "text": [
      "Process ForkProcess-3:\n"
     ]
    },
    {
     "name": "stderr",
     "output_type": "stream",
     "text": [
      "Traceback (most recent call last):\n"
     ]
    },
    {
     "name": "stderr",
     "output_type": "stream",
     "text": [
      "Traceback (most recent call last):\n"
     ]
    },
    {
     "name": "stderr",
     "output_type": "stream",
     "text": [
      "Traceback (most recent call last):\n"
     ]
    },
    {
     "name": "stderr",
     "output_type": "stream",
     "text": [
      "  File \"/Users/yibeichen/miniconda3/envs/pydra/lib/python3.7/multiprocessing/process.py\", line 297, in _bootstrap\n",
      "    self.run()\n"
     ]
    },
    {
     "name": "stderr",
     "output_type": "stream",
     "text": [
      "  File \"/Users/yibeichen/miniconda3/envs/pydra/lib/python3.7/multiprocessing/process.py\", line 297, in _bootstrap\n",
      "    self.run()\n"
     ]
    },
    {
     "name": "stderr",
     "output_type": "stream",
     "text": [
      "  File \"/Users/yibeichen/miniconda3/envs/pydra/lib/python3.7/multiprocessing/process.py\", line 99, in run\n",
      "    self._target(*self._args, **self._kwargs)\n"
     ]
    },
    {
     "name": "stderr",
     "output_type": "stream",
     "text": [
      "  File \"/Users/yibeichen/miniconda3/envs/pydra/lib/python3.7/multiprocessing/process.py\", line 99, in run\n",
      "    self._target(*self._args, **self._kwargs)\n"
     ]
    },
    {
     "name": "stderr",
     "output_type": "stream",
     "text": [
      "  File \"/Users/yibeichen/miniconda3/envs/pydra/lib/python3.7/multiprocessing/process.py\", line 297, in _bootstrap\n",
      "    self.run()\n"
     ]
    },
    {
     "name": "stderr",
     "output_type": "stream",
     "text": [
      "  File \"/Users/yibeichen/miniconda3/envs/pydra/lib/python3.7/concurrent/futures/process.py\", line 233, in _process_worker\n",
      "    call_item = call_queue.get(block=True)\n"
     ]
    },
    {
     "name": "stderr",
     "output_type": "stream",
     "text": [
      "  File \"/Users/yibeichen/miniconda3/envs/pydra/lib/python3.7/concurrent/futures/process.py\", line 233, in _process_worker\n",
      "    call_item = call_queue.get(block=True)\n"
     ]
    },
    {
     "name": "stderr",
     "output_type": "stream",
     "text": [
      "  File \"/Users/yibeichen/miniconda3/envs/pydra/lib/python3.7/multiprocessing/process.py\", line 99, in run\n",
      "    self._target(*self._args, **self._kwargs)\n"
     ]
    },
    {
     "name": "stderr",
     "output_type": "stream",
     "text": [
      "  File \"/Users/yibeichen/miniconda3/envs/pydra/lib/python3.7/multiprocessing/queues.py\", line 93, in get\n",
      "    with self._rlock:\n"
     ]
    },
    {
     "name": "stderr",
     "output_type": "stream",
     "text": [
      "  File \"/Users/yibeichen/miniconda3/envs/pydra/lib/python3.7/concurrent/futures/process.py\", line 233, in _process_worker\n",
      "    call_item = call_queue.get(block=True)\n"
     ]
    },
    {
     "name": "stderr",
     "output_type": "stream",
     "text": [
      "  File \"/Users/yibeichen/miniconda3/envs/pydra/lib/python3.7/multiprocessing/queues.py\", line 93, in get\n",
      "    with self._rlock:\n"
     ]
    },
    {
     "name": "stderr",
     "output_type": "stream",
     "text": [
      "  File \"/Users/yibeichen/miniconda3/envs/pydra/lib/python3.7/multiprocessing/queues.py\", line 94, in get\n",
      "    res = self._recv_bytes()\n"
     ]
    },
    {
     "name": "stderr",
     "output_type": "stream",
     "text": [
      "  File \"/Users/yibeichen/miniconda3/envs/pydra/lib/python3.7/multiprocessing/synchronize.py\", line 95, in __enter__\n",
      "    return self._semlock.__enter__()\n"
     ]
    },
    {
     "name": "stderr",
     "output_type": "stream",
     "text": [
      "  File \"/Users/yibeichen/miniconda3/envs/pydra/lib/python3.7/multiprocessing/synchronize.py\", line 95, in __enter__\n",
      "    return self._semlock.__enter__()\n"
     ]
    },
    {
     "name": "stderr",
     "output_type": "stream",
     "text": [
      "  File \"/Users/yibeichen/miniconda3/envs/pydra/lib/python3.7/multiprocessing/connection.py\", line 216, in recv_bytes\n",
      "    buf = self._recv_bytes(maxlength)\n"
     ]
    },
    {
     "name": "stderr",
     "output_type": "stream",
     "text": [
      "KeyboardInterrupt\n"
     ]
    },
    {
     "name": "stderr",
     "output_type": "stream",
     "text": [
      "KeyboardInterrupt\n"
     ]
    },
    {
     "name": "stderr",
     "output_type": "stream",
     "text": [
      "  File \"/Users/yibeichen/miniconda3/envs/pydra/lib/python3.7/multiprocessing/connection.py\", line 407, in _recv_bytes\n",
      "    buf = self._recv(4)\n"
     ]
    },
    {
     "name": "stderr",
     "output_type": "stream",
     "text": [
      "  File \"/Users/yibeichen/miniconda3/envs/pydra/lib/python3.7/multiprocessing/connection.py\", line 379, in _recv\n",
      "    chunk = read(handle, remaining)\n"
     ]
    },
    {
     "name": "stderr",
     "output_type": "stream",
     "text": [
      "KeyboardInterrupt\n"
     ]
    },
    {
     "ename": "KeyboardInterrupt",
     "evalue": "",
     "output_type": "error",
     "traceback": [
      "\u001b[0;31m---------------------------------------------------------------------------\u001b[0m",
      "\u001b[0;31mKeyboardInterrupt\u001b[0m                         Traceback (most recent call last)",
      "\u001b[0;32m/var/folders/wr/x5xt_yqs2cvc_gb3sf147lvc0000gn/T/ipykernel_54024/1691888031.py\u001b[0m in \u001b[0;36m<module>\u001b[0;34m\u001b[0m\n\u001b[1;32m      2\u001b[0m \u001b[0;34m\u001b[0m\u001b[0m\n\u001b[1;32m      3\u001b[0m \u001b[0;32mwith\u001b[0m \u001b[0mSubmitter\u001b[0m\u001b[0;34m(\u001b[0m\u001b[0mplugin\u001b[0m\u001b[0;34m=\u001b[0m\u001b[0;34m\"cf\"\u001b[0m\u001b[0;34m,\u001b[0m \u001b[0mn_procs\u001b[0m\u001b[0;34m=\u001b[0m\u001b[0;36m4\u001b[0m\u001b[0;34m)\u001b[0m \u001b[0;32mas\u001b[0m \u001b[0msubmitter\u001b[0m\u001b[0;34m:\u001b[0m\u001b[0;34m\u001b[0m\u001b[0;34m\u001b[0m\u001b[0m\n\u001b[0;32m----> 4\u001b[0;31m     \u001b[0msubmitter\u001b[0m\u001b[0;34m(\u001b[0m\u001b[0mwf\u001b[0m\u001b[0;34m)\u001b[0m\u001b[0;34m\u001b[0m\u001b[0;34m\u001b[0m\u001b[0m\n\u001b[0m\u001b[1;32m      5\u001b[0m \u001b[0;34m\u001b[0m\u001b[0m\n\u001b[1;32m      6\u001b[0m \u001b[0mresults\u001b[0m \u001b[0;34m=\u001b[0m \u001b[0mwf\u001b[0m\u001b[0;34m.\u001b[0m\u001b[0mresult\u001b[0m\u001b[0;34m(\u001b[0m\u001b[0mreturn_inputs\u001b[0m\u001b[0;34m=\u001b[0m\u001b[0;32mTrue\u001b[0m\u001b[0;34m)\u001b[0m\u001b[0;34m\u001b[0m\u001b[0;34m\u001b[0m\u001b[0m\n",
      "\u001b[0;32m~/GDrive/GitHub/pydra/pydra/engine/submitter.py\u001b[0m in \u001b[0;36m__call__\u001b[0;34m(self, runnable, cache_locations, rerun)\u001b[0m\n\u001b[1;32m     39\u001b[0m         \u001b[0;32mif\u001b[0m \u001b[0mcache_locations\u001b[0m \u001b[0;32mis\u001b[0m \u001b[0;32mnot\u001b[0m \u001b[0;32mNone\u001b[0m\u001b[0;34m:\u001b[0m\u001b[0;34m\u001b[0m\u001b[0;34m\u001b[0m\u001b[0m\n\u001b[1;32m     40\u001b[0m             \u001b[0mrunnable\u001b[0m\u001b[0;34m.\u001b[0m\u001b[0mcache_locations\u001b[0m \u001b[0;34m=\u001b[0m \u001b[0mcache_locations\u001b[0m\u001b[0;34m\u001b[0m\u001b[0;34m\u001b[0m\u001b[0m\n\u001b[0;32m---> 41\u001b[0;31m         \u001b[0mself\u001b[0m\u001b[0;34m.\u001b[0m\u001b[0mloop\u001b[0m\u001b[0;34m.\u001b[0m\u001b[0mrun_until_complete\u001b[0m\u001b[0;34m(\u001b[0m\u001b[0mself\u001b[0m\u001b[0;34m.\u001b[0m\u001b[0msubmit_from_call\u001b[0m\u001b[0;34m(\u001b[0m\u001b[0mrunnable\u001b[0m\u001b[0;34m,\u001b[0m \u001b[0mrerun\u001b[0m\u001b[0;34m)\u001b[0m\u001b[0;34m)\u001b[0m\u001b[0;34m\u001b[0m\u001b[0;34m\u001b[0m\u001b[0m\n\u001b[0m\u001b[1;32m     42\u001b[0m         \u001b[0;32mreturn\u001b[0m \u001b[0mrunnable\u001b[0m\u001b[0;34m.\u001b[0m\u001b[0mresult\u001b[0m\u001b[0;34m(\u001b[0m\u001b[0;34m)\u001b[0m\u001b[0;34m\u001b[0m\u001b[0;34m\u001b[0m\u001b[0m\n\u001b[1;32m     43\u001b[0m \u001b[0;34m\u001b[0m\u001b[0m\n",
      "\u001b[0;32m~/miniconda3/envs/pydra/lib/python3.7/site-packages/nest_asyncio.py\u001b[0m in \u001b[0;36mrun_until_complete\u001b[0;34m(self, future)\u001b[0m\n\u001b[1;32m     81\u001b[0m                 \u001b[0mf\u001b[0m\u001b[0;34m.\u001b[0m\u001b[0m_log_destroy_pending\u001b[0m \u001b[0;34m=\u001b[0m \u001b[0;32mFalse\u001b[0m\u001b[0;34m\u001b[0m\u001b[0;34m\u001b[0m\u001b[0m\n\u001b[1;32m     82\u001b[0m             \u001b[0;32mwhile\u001b[0m \u001b[0;32mnot\u001b[0m \u001b[0mf\u001b[0m\u001b[0;34m.\u001b[0m\u001b[0mdone\u001b[0m\u001b[0;34m(\u001b[0m\u001b[0;34m)\u001b[0m\u001b[0;34m:\u001b[0m\u001b[0;34m\u001b[0m\u001b[0;34m\u001b[0m\u001b[0m\n\u001b[0;32m---> 83\u001b[0;31m                 \u001b[0mself\u001b[0m\u001b[0;34m.\u001b[0m\u001b[0m_run_once\u001b[0m\u001b[0;34m(\u001b[0m\u001b[0;34m)\u001b[0m\u001b[0;34m\u001b[0m\u001b[0;34m\u001b[0m\u001b[0m\n\u001b[0m\u001b[1;32m     84\u001b[0m                 \u001b[0;32mif\u001b[0m \u001b[0mself\u001b[0m\u001b[0;34m.\u001b[0m\u001b[0m_stopping\u001b[0m\u001b[0;34m:\u001b[0m\u001b[0;34m\u001b[0m\u001b[0;34m\u001b[0m\u001b[0m\n\u001b[1;32m     85\u001b[0m                     \u001b[0;32mbreak\u001b[0m\u001b[0;34m\u001b[0m\u001b[0;34m\u001b[0m\u001b[0m\n",
      "\u001b[0;32m~/miniconda3/envs/pydra/lib/python3.7/site-packages/nest_asyncio.py\u001b[0m in \u001b[0;36m_run_once\u001b[0;34m(self)\u001b[0m\n\u001b[1;32m    104\u001b[0m                 scheduled[0]._when - self.time(), 0), 86400) if scheduled\n\u001b[1;32m    105\u001b[0m             else None)\n\u001b[0;32m--> 106\u001b[0;31m         \u001b[0mevent_list\u001b[0m \u001b[0;34m=\u001b[0m \u001b[0mself\u001b[0m\u001b[0;34m.\u001b[0m\u001b[0m_selector\u001b[0m\u001b[0;34m.\u001b[0m\u001b[0mselect\u001b[0m\u001b[0;34m(\u001b[0m\u001b[0mtimeout\u001b[0m\u001b[0;34m)\u001b[0m\u001b[0;34m\u001b[0m\u001b[0;34m\u001b[0m\u001b[0m\n\u001b[0m\u001b[1;32m    107\u001b[0m         \u001b[0mself\u001b[0m\u001b[0;34m.\u001b[0m\u001b[0m_process_events\u001b[0m\u001b[0;34m(\u001b[0m\u001b[0mevent_list\u001b[0m\u001b[0;34m)\u001b[0m\u001b[0;34m\u001b[0m\u001b[0;34m\u001b[0m\u001b[0m\n\u001b[1;32m    108\u001b[0m \u001b[0;34m\u001b[0m\u001b[0m\n",
      "\u001b[0;32m~/miniconda3/envs/pydra/lib/python3.7/selectors.py\u001b[0m in \u001b[0;36mselect\u001b[0;34m(self, timeout)\u001b[0m\n\u001b[1;32m    556\u001b[0m             \u001b[0mready\u001b[0m \u001b[0;34m=\u001b[0m \u001b[0;34m[\u001b[0m\u001b[0;34m]\u001b[0m\u001b[0;34m\u001b[0m\u001b[0;34m\u001b[0m\u001b[0m\n\u001b[1;32m    557\u001b[0m             \u001b[0;32mtry\u001b[0m\u001b[0;34m:\u001b[0m\u001b[0;34m\u001b[0m\u001b[0;34m\u001b[0m\u001b[0m\n\u001b[0;32m--> 558\u001b[0;31m                 \u001b[0mkev_list\u001b[0m \u001b[0;34m=\u001b[0m \u001b[0mself\u001b[0m\u001b[0;34m.\u001b[0m\u001b[0m_selector\u001b[0m\u001b[0;34m.\u001b[0m\u001b[0mcontrol\u001b[0m\u001b[0;34m(\u001b[0m\u001b[0;32mNone\u001b[0m\u001b[0;34m,\u001b[0m \u001b[0mmax_ev\u001b[0m\u001b[0;34m,\u001b[0m \u001b[0mtimeout\u001b[0m\u001b[0;34m)\u001b[0m\u001b[0;34m\u001b[0m\u001b[0;34m\u001b[0m\u001b[0m\n\u001b[0m\u001b[1;32m    559\u001b[0m             \u001b[0;32mexcept\u001b[0m \u001b[0mInterruptedError\u001b[0m\u001b[0;34m:\u001b[0m\u001b[0;34m\u001b[0m\u001b[0;34m\u001b[0m\u001b[0m\n\u001b[1;32m    560\u001b[0m                 \u001b[0;32mreturn\u001b[0m \u001b[0mready\u001b[0m\u001b[0;34m\u001b[0m\u001b[0;34m\u001b[0m\u001b[0m\n",
      "\u001b[0;31mKeyboardInterrupt\u001b[0m: "
     ]
    }
   ],
   "source": [
    "from pydra import Submitter\n",
    "\n",
    "with Submitter(plugin=\"cf\", n_procs=4) as submitter:\n",
    "    submitter(wf)\n",
    "\n",
    "results = wf.result(return_inputs=True)\n",
    "\n",
    "print(results)"
   ]
  },
  {
   "cell_type": "markdown",
   "id": "1307d0ae",
   "metadata": {
    "tags": []
   },
   "source": [
    "## Visualization"
   ]
  },
  {
   "cell_type": "markdown",
   "id": "a2673ac8",
   "metadata": {},
   "source": [
    "If you arrive here without any errors, yay, you just made your first pydra workflow for a first-level GLM!"
   ]
  },
  {
   "cell_type": "markdown",
   "id": "23e35a61",
   "metadata": {},
   "source": [
    "## Examine folder structure\n",
    "\n",
    "Let's take a look at what you have got."
   ]
  },
  {
   "cell_type": "code",
   "execution_count": null,
   "id": "94b053d6",
   "metadata": {},
   "outputs": [],
   "source": [
    "!ls ../outputs/6_glm"
   ]
  },
  {
   "cell_type": "markdown",
   "id": "a0577946",
   "metadata": {},
   "source": [
    "<details>\n",
    "    \n",
    "<summary>Click to see what you should get</summary>\n",
    "    \n",
    "1. cluster_table.csv       \n",
    "2. firstlevel_z_map.nii.gz \n",
    "3. nilearn_fsl_comp.png\n",
    "4. designmatrix.csv        \n",
    "5. fsl_z_map.png           \n",
    "6. nilearn_z_map.png\n",
    "7. firstlevel_contrast.png glm_report.html\n",
    "    \n",
    "</details>"
   ]
  },
  {
   "cell_type": "markdown",
   "id": "30968b72",
   "metadata": {},
   "source": [
    "### Plot figures"
   ]
  },
  {
   "cell_type": "markdown",
   "id": "8b695dfc",
   "metadata": {},
   "source": [
    "#### First level contrast"
   ]
  },
  {
   "cell_type": "code",
   "execution_count": null,
   "id": "931fad2c",
   "metadata": {},
   "outputs": [],
   "source": [
    "from IPython.display import Image\n",
    "Image(filename='../outputs/6_glm/firstlevel_contrast.png') "
   ]
  },
  {
   "cell_type": "markdown",
   "id": "36aeeaf0",
   "metadata": {},
   "source": [
    "#### Nilearn Z map"
   ]
  },
  {
   "cell_type": "code",
   "execution_count": null,
   "id": "a160449c",
   "metadata": {},
   "outputs": [],
   "source": [
    "Image(filename='../outputs/6_glm/nilearn_z_map.png') "
   ]
  },
  {
   "cell_type": "markdown",
   "id": "627779fb",
   "metadata": {},
   "source": [
    "#### FSL Z map"
   ]
  },
  {
   "cell_type": "code",
   "execution_count": null,
   "id": "b9f5af1a",
   "metadata": {},
   "outputs": [],
   "source": [
    "Image(filename='../outputs/6_glm/fsl_z_map.png') "
   ]
  },
  {
   "cell_type": "markdown",
   "id": "1c01a297",
   "metadata": {},
   "source": [
    "#### Nilearn FSL comparison"
   ]
  },
  {
   "cell_type": "code",
   "execution_count": null,
   "id": "520fd5dd",
   "metadata": {},
   "outputs": [],
   "source": [
    "Image(filename='../outputs/6_glm/nilearn_fsl_comp.png') "
   ]
  },
  {
   "cell_type": "markdown",
   "id": "e4a24c6a",
   "metadata": {
    "tags": []
   },
   "source": [
    "## Exercise"
   ]
  },
  {
   "cell_type": "markdown",
   "id": "e49a2439",
   "metadata": {},
   "source": [
    "What if we need to run the first-level GLM on multiple subject? We will need the `splitter`. \n",
    "\n",
    "So, where should we add `.split`?"
   ]
  },
  {
   "cell_type": "code",
   "execution_count": null,
   "id": "5c0f6bf0",
   "metadata": {},
   "outputs": [],
   "source": []
  }
 ],
 "metadata": {
  "jupytext": {
   "text_representation": {
    "extension": ".md",
    "format_name": "myst",
    "format_version": 0.13,
    "jupytext_version": "1.10.3"
   }
  },
  "kernelspec": {
   "display_name": "Python 3",
   "language": "python",
   "name": "python3"
  },
  "language_info": {
   "codemirror_mode": {
    "name": "ipython",
    "version": 3
   },
   "file_extension": ".py",
   "mimetype": "text/x-python",
   "name": "python",
   "nbconvert_exporter": "python",
   "pygments_lexer": "ipython3",
   "version": "3.7.13"
  },
  "source_map": [
   14,
   18,
   24,
   29,
   35,
   54,
   65,
   77,
   89,
   107,
   126,
   137,
   154,
   163,
   183,
   189,
   220,
   232,
   282,
   294,
   353,
   361,
   402,
   406,
   419,
   423,
   427,
   433,
   435,
   451,
   455,
   459,
   462,
   466,
   468,
   472,
   474,
   478,
   482,
   486,
   492
  ]
 },
 "nbformat": 4,
 "nbformat_minor": 5
}