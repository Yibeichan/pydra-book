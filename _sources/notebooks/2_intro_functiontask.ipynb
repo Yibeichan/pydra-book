{
 "cells": [
  {
   "cell_type": "markdown",
   "id": "42edfb23",
   "metadata": {},
   "source": [
    "# 2. FunctionTask"
   ]
  },
  {
   "cell_type": "code",
   "execution_count": null,
   "id": "7a4dc49b",
   "metadata": {
    "jupyter": {
     "outputs_hidden": false
    },
    "pycharm": {
     "name": "#%%\n"
    }
   },
   "outputs": [],
   "source": [
    "import nest_asyncio\n",
    "nest_asyncio.apply()"
   ]
  },
  {
   "cell_type": "markdown",
   "id": "f32cab3e",
   "metadata": {},
   "source": [
    "A `FunctionTask` is a `Task` that can be created from every *python* function by using *pydra* decorator: `pydra.mark.task`:"
   ]
  },
  {
   "cell_type": "code",
   "execution_count": null,
   "id": "008ef701",
   "metadata": {},
   "outputs": [],
   "source": [
    "import pydra\n",
    "\n",
    "@pydra.mark.task\n",
    "def add_var(a, b):\n",
    "    return a + b"
   ]
  },
  {
   "cell_type": "markdown",
   "id": "80d5989c",
   "metadata": {},
   "source": [
    "Once we decorate the function, we can create a pydra `Task` and specify the input:"
   ]
  },
  {
   "cell_type": "code",
   "execution_count": null,
   "id": "61d9f86a",
   "metadata": {},
   "outputs": [],
   "source": [
    "task1 = add_var(a=4, b=5)"
   ]
  },
  {
   "cell_type": "markdown",
   "id": "c7302d12",
   "metadata": {},
   "source": [
    "We can check the type of `task1`:"
   ]
  },
  {
   "cell_type": "code",
   "execution_count": null,
   "id": "53650720",
   "metadata": {},
   "outputs": [],
   "source": [
    "type(task1)"
   ]
  },
  {
   "cell_type": "markdown",
   "id": "83c72b0a",
   "metadata": {},
   "source": [
    "and we can check if the task has correct values of `a` and `b`, they should be saved in the task `inputs`:"
   ]
  },
  {
   "cell_type": "code",
   "execution_count": null,
   "id": "79466355",
   "metadata": {},
   "outputs": [],
   "source": [
    "print(f\"a = {task1.inputs.a}\")\n",
    "print(f\"b = {task1.inputs.b}\")"
   ]
  },
  {
   "cell_type": "markdown",
   "id": "69c6e5da",
   "metadata": {},
   "source": [
    "We can also check content of entire `inputs`:"
   ]
  },
  {
   "cell_type": "code",
   "execution_count": null,
   "id": "f4693efd",
   "metadata": {},
   "outputs": [],
   "source": [
    "task1.inputs"
   ]
  },
  {
   "cell_type": "markdown",
   "id": "54fdd907",
   "metadata": {},
   "source": [
    "As you could see, `task.inputs` contains also information about the function, that is an inseparable part of the `FunctionTask`.\n",
    "\n",
    "Once we have the task with set input, we can run it. Since `Task` is a \"callable object\", we can use the syntax:"
   ]
  },
  {
   "cell_type": "code",
   "execution_count": null,
   "id": "7fc3fc67",
   "metadata": {},
   "outputs": [],
   "source": [
    "task1()"
   ]
  },
  {
   "cell_type": "markdown",
   "id": "75a9076d",
   "metadata": {},
   "source": [
    "As you can see, the result was returned right away, but we can also access it later:"
   ]
  },
  {
   "cell_type": "code",
   "execution_count": null,
   "id": "bf260f72",
   "metadata": {},
   "outputs": [],
   "source": [
    "task1.result()"
   ]
  },
  {
   "cell_type": "markdown",
   "id": "aa30bc5f",
   "metadata": {},
   "source": [
    "`Result` contains more than just an output, so if we want to get the task output, we can type:"
   ]
  },
  {
   "cell_type": "code",
   "execution_count": null,
   "id": "3703d625",
   "metadata": {},
   "outputs": [],
   "source": [
    "result = task1.result()\n",
    "result.output.out"
   ]
  },
  {
   "cell_type": "markdown",
   "id": "a15eab86",
   "metadata": {},
   "source": [
    "And if we want to see the input that was used in the task, we can set an optional argument `return_inputs` to True."
   ]
  },
  {
   "cell_type": "code",
   "execution_count": null,
   "id": "5d2c7c2a",
   "metadata": {},
   "outputs": [],
   "source": [
    "task1.result(return_inputs=True)"
   ]
  },
  {
   "cell_type": "markdown",
   "id": "1d41a3bf",
   "metadata": {},
   "source": [
    "## Customizing output names\n",
    "Note, that \"out\" is the default name for the task output, but we can always customize it. There are two ways of doing it: using *python* function annotation and using another *pydra* decorator:\n",
    "\n",
    "Let's start from the function annotation:"
   ]
  },
  {
   "cell_type": "code",
   "execution_count": null,
   "id": "cdafa975",
   "metadata": {},
   "outputs": [],
   "source": [
    "import typing as ty\n",
    "\n",
    "@pydra.mark.task\n",
    "def add_var_an(a, b) -> {\"sum_a_b\": int}:\n",
    "    return a + b\n",
    "\n",
    "\n",
    "task1a = add_var_an(a=4, b=5)\n",
    "task1a()"
   ]
  },
  {
   "cell_type": "markdown",
   "id": "dd170529",
   "metadata": {},
   "source": [
    "The annotation might be very useful to specify the output names when the function returns multiple values."
   ]
  },
  {
   "cell_type": "code",
   "execution_count": null,
   "id": "ddf2b05a",
   "metadata": {},
   "outputs": [],
   "source": [
    "@pydra.mark.task\n",
    "def modf_an(a) -> {\"fractional\": ty.Any, \"integer\": ty.Any}:\n",
    "    import math\n",
    "    return math.modf(a)\n",
    "\n",
    "task2 = modf_an(a=3.5)\n",
    "task2()"
   ]
  },
  {
   "cell_type": "markdown",
   "id": "b501d823",
   "metadata": {},
   "source": [
    "The second way of customizing the output requires another decorator - `pydra.mark.annotate`"
   ]
  },
  {
   "cell_type": "code",
   "execution_count": null,
   "id": "7fce9568",
   "metadata": {},
   "outputs": [],
   "source": [
    "@pydra.mark.task\n",
    "@pydra.mark.annotate({\"return\": {\"fractional\": ty.Any, \"integer\": ty.Any}})\n",
    "def modf(a):\n",
    "    import math\n",
    "    return math.modf(a)\n",
    "\n",
    "task2a = modf(a=3.5)\n",
    "task2a()"
   ]
  },
  {
   "cell_type": "markdown",
   "id": "95b756a7",
   "metadata": {},
   "source": [
    "**Note, that the order of the pydra decorators is important!**"
   ]
  },
  {
   "cell_type": "markdown",
   "id": "7830e33e",
   "metadata": {},
   "source": [
    "## Setting the input\n",
    "\n",
    "We don't have to provide the input when we create a task, we can always set it later:"
   ]
  },
  {
   "cell_type": "code",
   "execution_count": null,
   "id": "cfd56adf",
   "metadata": {},
   "outputs": [],
   "source": [
    "task3 = add_var()\n",
    "task3.inputs.a = 4\n",
    "task3.inputs.b = 5\n",
    "task3()"
   ]
  },
  {
   "cell_type": "markdown",
   "id": "b27e74d9",
   "metadata": {},
   "source": [
    "If we don't specify the input, `attr.NOTHING` will be used as the default value"
   ]
  },
  {
   "cell_type": "code",
   "execution_count": null,
   "id": "dbe48e9e",
   "metadata": {},
   "outputs": [],
   "source": [
    "task3a = add_var()\n",
    "task3a.inputs.a = 4\n",
    "\n",
    "# importing attr library, and checking the type pf `b`\n",
    "import attr\n",
    "task3a.inputs.b == attr.NOTHING"
   ]
  },
  {
   "cell_type": "markdown",
   "id": "6f226c7f",
   "metadata": {},
   "source": [
    "And if we try to run the task, an error will be raised:"
   ]
  },
  {
   "cell_type": "code",
   "execution_count": null,
   "id": "2b033707",
   "metadata": {
    "tags": [
     "raises-exception"
    ]
   },
   "outputs": [],
   "source": [
    "task3a()"
   ]
  },
  {
   "cell_type": "markdown",
   "id": "78d03c88",
   "metadata": {},
   "source": [
    "## Output directory and caching the results\n",
    "\n",
    "After running the task, we can check where the output directory with the results was created:"
   ]
  },
  {
   "cell_type": "code",
   "execution_count": null,
   "id": "01d94120",
   "metadata": {},
   "outputs": [],
   "source": [
    "task3.output_dir"
   ]
  },
  {
   "cell_type": "markdown",
   "id": "41a2347a",
   "metadata": {},
   "source": [
    "Within the directory you can find the file with the results: `_result.pklz`."
   ]
  },
  {
   "cell_type": "code",
   "execution_count": null,
   "id": "7941ee34",
   "metadata": {},
   "outputs": [],
   "source": [
    "import os\n",
    "os.listdir(task3.output_dir)"
   ]
  },
  {
   "cell_type": "markdown",
   "id": "38fbfd88",
   "metadata": {},
   "source": [
    "But we can also provide the path where we want to store the results. If a path is provided for the cache directory, then pydra will use the cached results of a node instead of recomputing the result. Let's create a temporary directory and a specific subdirectory \"task4\":"
   ]
  },
  {
   "cell_type": "code",
   "execution_count": null,
   "id": "99cf2e40",
   "metadata": {},
   "outputs": [],
   "source": [
    "from tempfile import mkdtemp\n",
    "from pathlib import Path\n",
    "cache_dir_tmp = Path(mkdtemp()) / \"task4\"\n",
    "print(cache_dir_tmp)"
   ]
  },
  {
   "cell_type": "markdown",
   "id": "113b483f",
   "metadata": {},
   "source": [
    "Now we can pass this path to the argument of `FunctionTask` - `cache_dir`. To observe the execution time, we specify a function that is sleeping for 5s:"
   ]
  },
  {
   "cell_type": "code",
   "execution_count": null,
   "id": "caf91038",
   "metadata": {},
   "outputs": [],
   "source": [
    "@pydra.mark.task\n",
    "def add_var_wait(a, b):\n",
    "    import time\n",
    "    time.sleep(5)\n",
    "    return a + b\n",
    "\n",
    "task4 = add_var_wait(a=4, b=6, cache_dir=cache_dir_tmp)"
   ]
  },
  {
   "cell_type": "markdown",
   "id": "560bc53a",
   "metadata": {},
   "source": [
    "If you're running the cell first time, it should take around 5s."
   ]
  },
  {
   "cell_type": "code",
   "execution_count": null,
   "id": "a04b9f4f",
   "metadata": {},
   "outputs": [],
   "source": [
    "task4()\n",
    "task4.result()"
   ]
  },
  {
   "cell_type": "markdown",
   "id": "0431408d",
   "metadata": {},
   "source": [
    "We can check `output_dir` of our task, it should contain the path of `cache_dir_tmp` and the last part contains the name of the task class `FunctionTask` and the task checksum:"
   ]
  },
  {
   "cell_type": "code",
   "execution_count": null,
   "id": "2a4c6f7f",
   "metadata": {},
   "outputs": [],
   "source": [
    "task4.output_dir"
   ]
  },
  {
   "cell_type": "markdown",
   "id": "6a970515",
   "metadata": {},
   "source": [
    "Let's see what happens when we defined identical task again with the same `cache_dir`:"
   ]
  },
  {
   "cell_type": "code",
   "execution_count": null,
   "id": "c4849e42",
   "metadata": {},
   "outputs": [],
   "source": [
    "task4a = add_var_wait(a=4, b=6, cache_dir=cache_dir_tmp)\n",
    "task4a()"
   ]
  },
  {
   "cell_type": "markdown",
   "id": "ce3be728",
   "metadata": {},
   "source": [
    "This time the result should be ready right away! *pydra* uses available results and do not recompute the task.\n",
    "\n",
    "*pydra* not only checks for the results in `cache_dir`, but you can provide a list of other locations that should be checked. Let's create another directory that will be used as `cache_dir` and previous working directory will be used in `cache_locations`."
   ]
  },
  {
   "cell_type": "code",
   "execution_count": null,
   "id": "29b000cb",
   "metadata": {},
   "outputs": [],
   "source": [
    "cache_dir_tmp_new = Path(mkdtemp()) / \"task4b\"\n",
    "\n",
    "task4b = add_var_wait(a=4, b=6, cache_dir=cache_dir_tmp_new, cache_locations=[cache_dir_tmp])\n",
    "task4b()"
   ]
  },
  {
   "cell_type": "markdown",
   "id": "08c63813",
   "metadata": {},
   "source": [
    "This time the results should be also returned quickly! And we can check that `task4b.output_dir` was not created:"
   ]
  },
  {
   "cell_type": "code",
   "execution_count": null,
   "id": "ea9ce0ee",
   "metadata": {},
   "outputs": [],
   "source": [
    "task4b.output_dir.exists()"
   ]
  },
  {
   "cell_type": "markdown",
   "id": "c71271f9",
   "metadata": {},
   "source": [
    "If you want to rerun the task regardless having already the results, you can set `rerun` to `True`. The task will take several seconds and new `output_dir` will be created:"
   ]
  },
  {
   "cell_type": "code",
   "execution_count": null,
   "id": "22a70dc2",
   "metadata": {},
   "outputs": [],
   "source": [
    "cache_dir_tmp_new = Path(mkdtemp()) / \"task4c\"\n",
    "\n",
    "task4c = add_var_wait(a=4, b=6, cache_dir=cache_dir_tmp_new, cache_locations=[cache_dir_tmp])\n",
    "task4c(rerun=True)\n",
    "\n",
    "task4c.output_dir.exists()"
   ]
  },
  {
   "cell_type": "markdown",
   "id": "fdca1ed5",
   "metadata": {},
   "source": [
    "If we update the input of the task, and run again, the new directory will be created and task will be recomputed:"
   ]
  },
  {
   "cell_type": "code",
   "execution_count": null,
   "id": "163f9229",
   "metadata": {},
   "outputs": [],
   "source": [
    "task4b.inputs.a = 1\n",
    "print(task4b())\n",
    "print(task4b.output_dir.exists())"
   ]
  },
  {
   "cell_type": "markdown",
   "id": "4dda4a83",
   "metadata": {},
   "source": [
    "and when we check the `output_dir`, we can see that it's different than last time:"
   ]
  },
  {
   "cell_type": "code",
   "execution_count": null,
   "id": "ba0191ae",
   "metadata": {},
   "outputs": [],
   "source": [
    "task4b.output_dir"
   ]
  },
  {
   "cell_type": "markdown",
   "id": "e5f942c4",
   "metadata": {},
   "source": [
    "This is because, the checksum changes when we change either input or function."
   ]
  },
  {
   "cell_type": "markdown",
   "id": "0e5ffafe",
   "metadata": {},
   "source": [
    "### Exercise 1\n",
    "Create a task that take a list of numbers as an input and returns two fields: `mean` with the mean value and `std` with the standard deviation value."
   ]
  },
  {
   "cell_type": "code",
   "execution_count": null,
   "id": "b3c49448",
   "metadata": {},
   "outputs": [],
   "source": [
    ":tags: [\"hide-cell\"]\n",
    "\n",
    "@pydra.mark.task\n",
    "@pydra.mark.annotate({\"return\": {\"mean\": ty.Any, \"std\": ty.Any}})\n",
    "def mean_dev(my_list):\n",
    "    import statistics as st\n",
    "    return st.mean(my_list), st.stdev(my_list)\n",
    "\n",
    "my_task = mean_dev(my_list=[2, 2, 2])\n",
    "my_task()\n",
    "my_task.result()"
   ]
  },
  {
   "cell_type": "code",
   "execution_count": null,
   "id": "d0827f5d",
   "metadata": {},
   "outputs": [],
   "source": [
    "# write your solution here (you can use statistics module)"
   ]
  },
  {
   "cell_type": "markdown",
   "id": "ae070c05",
   "metadata": {},
   "source": [
    "## Using Audit\n",
    "\n",
    "*pydra* can record various run time information, including the workflow provenance, by setting `audit_flags` and the type of messengers. \n",
    "\n",
    "`AuditFlag.RESOURCE` allows you to monitor resource usage for the `Task`, while `AuditFlag.PROV` tracks the provenance of the `Task`."
   ]
  },
  {
   "cell_type": "code",
   "execution_count": null,
   "id": "449a8950",
   "metadata": {},
   "outputs": [],
   "source": [
    "from pydra.utils.messenger import AuditFlag, PrintMessenger\n",
    "\n",
    "task5 = add_var(a=4, b=5, audit_flags=AuditFlag.RESOURCE)\n",
    "task5()\n",
    "task5.result()"
   ]
  },
  {
   "cell_type": "markdown",
   "id": "ebe21229",
   "metadata": {},
   "source": [
    "One can turn on both audit flags using `AuditFlag.ALL`, and print the messages on the terminal using the `PrintMessenger`."
   ]
  },
  {
   "cell_type": "code",
   "execution_count": null,
   "id": "4fe422d7",
   "metadata": {},
   "outputs": [],
   "source": [
    "task5 = add_var(a=4, b=5, audit_flags=AuditFlag.ALL, messengers=PrintMessenger())\n",
    "task5()\n",
    "task5.result()"
   ]
  },
  {
   "cell_type": "code",
   "execution_count": null,
   "id": "838609fe",
   "metadata": {},
   "outputs": [],
   "source": []
  }
 ],
 "metadata": {
  "jupytext": {
   "text_representation": {
    "extension": ".md",
    "format_name": "myst",
    "format_version": 0.13,
    "jupytext_version": "1.10.3"
   }
  },
  "kernelspec": {
   "display_name": "Python 3",
   "language": "python",
   "name": "python3"
  },
  "source_map": [
   12,
   16,
   27,
   32,
   38,
   42,
   44,
   48,
   50,
   54,
   57,
   61,
   63,
   69,
   71,
   75,
   77,
   81,
   84,
   88,
   90,
   97,
   107,
   111,
   119,
   123,
   132,
   136,
   142,
   147,
   151,
   158,
   162,
   166,
   172,
   174,
   178,
   181,
   185,
   190,
   194,
   202,
   206,
   209,
   213,
   215,
   219,
   222,
   228,
   233,
   237,
   239,
   243,
   250,
   254,
   258,
   262,
   264,
   268,
   273,
   288,
   290,
   298,
   304,
   308,
   314
  ]
 },
 "nbformat": 4,
 "nbformat_minor": 5
}